{
 "cells": [
  {
   "cell_type": "markdown",
   "metadata": {},
   "source": [
    "# Data Types and Variables (Kiểu dữ liệu và Biến)"
   ]
  },
  {
   "cell_type": "markdown",
   "metadata": {},
   "source": [
    "### Values and  Data Type (Giá trị và Kiểu dữ liệu)\n"
   ]
  },
  {
   "cell_type": "markdown",
   "metadata": {},
   "source": [
    "Each student has their own data:\n",
    "1. name (tên)\n",
    "2. enrollment year (năm nhập học)\n",
    "3. scores (điểm)\n",
    "4. others: id (mã số sv), gpa (điểm tổng kết), address (địa chỉ) ..."
   ]
  },
  {
   "cell_type": "code",
   "execution_count": 1,
   "metadata": {},
   "outputs": [
    {
     "name": "stdout",
     "output_type": "stream",
     "text": [
      "\n"
     ]
    }
   ],
   "source": [
    "print() # câu lệnh in ra màn hình"
   ]
  },
  {
   "cell_type": "code",
   "execution_count": null,
   "metadata": {},
   "outputs": [
    {
     "name": "stdout",
     "output_type": "stream",
     "text": [
      "Tom Nguyen\n"
     ]
    }
   ],
   "source": [
    "print(\"Tom Nguyen\")"
   ]
  },
  {
   "cell_type": "code",
   "execution_count": 13,
   "metadata": {},
   "outputs": [
    {
     "name": "stdout",
     "output_type": "stream",
     "text": [
      "2025\n"
     ]
    }
   ],
   "source": [
    "print(2025)"
   ]
  },
  {
   "cell_type": "code",
   "execution_count": 4,
   "metadata": {},
   "outputs": [
    {
     "name": "stdout",
     "output_type": "stream",
     "text": [
      "8.5\n"
     ]
    }
   ],
   "source": [
    "print(8.5)"
   ]
  },
  {
   "cell_type": "markdown",
   "metadata": {},
   "source": [
    "### Check Python data type (Kiểm tra kiểu dữ liệu)\n",
    "1. string (kiểu chuỗi)\n",
    "2. integer (kiểu số nguyên)\n",
    "3. float (kiểu số thực)"
   ]
  },
  {
   "cell_type": "code",
   "execution_count": 14,
   "metadata": {},
   "outputs": [
    {
     "data": {
      "text/plain": [
       "str"
      ]
     },
     "execution_count": 14,
     "metadata": {},
     "output_type": "execute_result"
    }
   ],
   "source": [
    "type(\"Tom Nguyen\")"
   ]
  },
  {
   "cell_type": "code",
   "execution_count": 15,
   "metadata": {},
   "outputs": [
    {
     "data": {
      "text/plain": [
       "int"
      ]
     },
     "execution_count": 15,
     "metadata": {},
     "output_type": "execute_result"
    }
   ],
   "source": [
    "type(2025)"
   ]
  },
  {
   "cell_type": "code",
   "execution_count": 16,
   "metadata": {},
   "outputs": [
    {
     "data": {
      "text/plain": [
       "float"
      ]
     },
     "execution_count": 16,
     "metadata": {},
     "output_type": "execute_result"
    }
   ],
   "source": [
    "type(8.5) "
   ]
  },
  {
   "cell_type": "markdown",
   "metadata": {},
   "source": [
    "### What is a variable? (Biến là gì?)"
   ]
  },
  {
   "cell_type": "code",
   "execution_count": null,
   "metadata": {},
   "outputs": [],
   "source": [
    "name = \"Tom Nguyen\""
   ]
  },
  {
   "cell_type": "code",
   "execution_count": 9,
   "metadata": {},
   "outputs": [
    {
     "name": "stdout",
     "output_type": "stream",
     "text": [
      "Hello  Tom Smith\n"
     ]
    }
   ],
   "source": [
    "print(\"Hello \", name)"
   ]
  },
  {
   "cell_type": "markdown",
   "metadata": {},
   "source": [
    "### Variable Name Rules (Quy tắc đặt tên biến)\n",
    "1. Can have letters, numbers, underscore\n",
    "2. Start with a letter or underscore _ (numbers are not allowed!)\n",
    "3. Case sensitive: email, Email, EMAIL"
   ]
  },
  {
   "cell_type": "code",
   "execution_count": 9,
   "metadata": {},
   "outputs": [
    {
     "name": "stdout",
     "output_type": "stream",
     "text": [
      "10\n"
     ]
    }
   ],
   "source": [
    "abc = 10\n",
    "print(abc)\n"
   ]
  },
  {
   "cell_type": "code",
   "execution_count": 10,
   "metadata": {},
   "outputs": [
    {
     "ename": "SyntaxError",
     "evalue": "invalid syntax (<ipython-input-10-b67a7435d861>, line 1)",
     "output_type": "error",
     "traceback": [
      "\u001b[0;36m  File \u001b[0;32m\"<ipython-input-10-b67a7435d861>\"\u001b[0;36m, line \u001b[0;32m1\u001b[0m\n\u001b[0;31m    14email = \"abc@gmail.com\"\u001b[0m\n\u001b[0m      ^\u001b[0m\n\u001b[0;31mSyntaxError\u001b[0m\u001b[0;31m:\u001b[0m invalid syntax\n"
     ]
    }
   ],
   "source": [
    "14email = \"abc@gmail.com\"\n"
   ]
  },
  {
   "cell_type": "code",
   "execution_count": 17,
   "metadata": {},
   "outputs": [
    {
     "name": "stdout",
     "output_type": "stream",
     "text": [
      "hello (lowercase)\n",
      "HELLO (UPPERCASE)\n"
     ]
    }
   ],
   "source": [
    "text = \"hello (lowercase)\"\n",
    "TEXT = \"HELLO (UPPERCASE)\"\n",
    "print(text)\n",
    "print(TEXT)"
   ]
  },
  {
   "cell_type": "markdown",
   "metadata": {},
   "source": [
    "### Forbidden names (Những tên không được đặt)\n",
    "- False, await, else, import, pass\n",
    "- None, break, except, in, raise\n",
    "- True, class, finally, is, return\n",
    "- and, continue, for, lambda, try\n",
    "- as, def, from, nonlocal, while\n",
    "- assert, del, global, not, with\n",
    "- async, elif, if, or, yield"
   ]
  },
  {
   "cell_type": "code",
   "execution_count": 12,
   "metadata": {},
   "outputs": [
    {
     "ename": "SyntaxError",
     "evalue": "invalid syntax (<ipython-input-12-97a136cbc696>, line 1)",
     "output_type": "error",
     "traceback": [
      "\u001b[0;36m  File \u001b[0;32m\"<ipython-input-12-97a136cbc696>\"\u001b[0;36m, line \u001b[0;32m1\u001b[0m\n\u001b[0;31m    class = \"10A1\"\u001b[0m\n\u001b[0m          ^\u001b[0m\n\u001b[0;31mSyntaxError\u001b[0m\u001b[0;31m:\u001b[0m invalid syntax\n"
     ]
    }
   ],
   "source": [
    "class = \"10A1\""
   ]
  },
  {
   "cell_type": "markdown",
   "metadata": {},
   "source": [
    "### Mnemonic Variable Names (Đặt tên gợi nhớ)\n",
    "- Choose meaningful names (chọn tên biến khái quát được ý nghĩa của nó)"
   ]
  },
  {
   "cell_type": "code",
   "execution_count": null,
   "metadata": {},
   "outputs": [],
   "source": [
    "abc1 = \"Tom\"\n",
    "tttt1 = 8\n",
    "mmmm2 = 9"
   ]
  },
  {
   "cell_type": "code",
   "execution_count": 18,
   "metadata": {},
   "outputs": [],
   "source": [
    "name = \"Tom\"\n",
    "maths = 8\n",
    "english = 9"
   ]
  },
  {
   "cell_type": "code",
   "execution_count": 19,
   "metadata": {},
   "outputs": [
    {
     "name": "stdout",
     "output_type": "stream",
     "text": [
      "GPA of Tom is 8.5\n"
     ]
    }
   ],
   "source": [
    "gpa = (maths + english)/2\n",
    "print(\"GPA of\", name, \"is\", gpa)"
   ]
  },
  {
   "cell_type": "markdown",
   "metadata": {},
   "source": []
  },
  {
   "cell_type": "markdown",
   "metadata": {},
   "source": [
    "### Assignment\n",
    "Steps:\n",
    "1. Create an new file student.py (tạo 1 file mới với tên student.py)\n",
    "2. Copy the following code into student.py and save it(sao chép đoạn code ở dưới vào file và lưu lại)\n",
    "3. Open a new terminal and go to the folder containing student.py (mở Terminal mới, và vào đúng thư mục có chứa student.py)\n",
    "4. python student.py (chạy câu lệnh này)"
   ]
  },
  {
   "cell_type": "code",
   "execution_count": null,
   "metadata": {},
   "outputs": [
    {
     "name": "stdout",
     "output_type": "stream",
     "text": [
      "GPA of tt is 8.333333333333334\n"
     ]
    }
   ],
   "source": [
    "\"\"\"\n",
    "Prompt the user for their name, and their scores.\n",
    "Then calculate the GPA of the student and print it out.\n",
    "\"\"\"\n",
    "name = input(\"Enter your name: \")\n",
    "maths = float(input(\"Enter Maths score: \"))\n",
    "english = float(input(\"Enter English score: \"))\n",
    "python = float(input(\"Enter Python score: \"))\n",
    "\n",
    "# Calculate GPA by averaging the scores\n",
    "gpa = (maths + english + python)/3\n",
    "print(\"GPA of\", name, \"is\", gpa)\n"
   ]
  },
  {
   "cell_type": "markdown",
   "metadata": {},
   "source": [
    "### Links\n",
    "1. [Source code](https://github.com/techamici/python_for_everyone)\n",
    "2. [Youtube TechAmici](https://www.youtube.com/@TechAmici)"
   ]
  },
  {
   "cell_type": "code",
   "execution_count": null,
   "metadata": {},
   "outputs": [],
   "source": []
  }
 ],
 "metadata": {
  "kernelspec": {
   "display_name": "base",
   "language": "python",
   "name": "python3"
  },
  "language_info": {
   "codemirror_mode": {
    "name": "ipython",
    "version": 3
   },
   "file_extension": ".py",
   "mimetype": "text/x-python",
   "name": "python",
   "nbconvert_exporter": "python",
   "pygments_lexer": "ipython3",
   "version": "3.8.8"
  }
 },
 "nbformat": 4,
 "nbformat_minor": 2
}
