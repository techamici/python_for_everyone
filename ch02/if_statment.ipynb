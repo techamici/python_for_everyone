{
 "cells": [
  {
   "cell_type": "markdown",
   "metadata": {},
   "source": [
    "# Conditional Statements (Câu Lệnh Có Điều Kiện)\n"
   ]
  },
  {
   "cell_type": "markdown",
   "metadata": {},
   "source": [
    "## If statement (Câu Lệnh If)\n",
    "```bash\n",
    "if (<conditions>):\n",
    "    <Block of codes>\n",
    "```\n",
    "Nếu điều kiện trong dấu ngoặc tròn () sau if thoả mãn (TRUE), chương trình sẽ thực hiện các câu lệnh trong khối lệnh <Block of codes> được viết lùi vào 1 dấu Tab so với if\n",
    "\n",
    "e.g:\n",
    "```bash\n",
    "if (temperature > 38):\n",
    "    print(\"Turn on the air-conditioner\".)\n",
    "\n",
    "```"
   ]
  },
  {
   "cell_type": "markdown",
   "metadata": {},
   "source": [
    "#### Case 1: If the condition is true, the indented code block following the if statement is executed\n",
    "Trường hợp 1: Điều kiện trong câu lệnh If là đúng, thực thi khối lệnh được viết lùi vào sau if."
   ]
  },
  {
   "cell_type": "markdown",
   "metadata": {},
   "source": [
    "### "
   ]
  },
  {
   "cell_type": "code",
   "execution_count": 1,
   "metadata": {},
   "outputs": [
    {
     "name": "stdout",
     "output_type": "stream",
     "text": [
      "------------6:00----------------------\n",
      "I started running at 6 o'clock.\n",
      "At 6 o'clock, thirsty is  0\n",
      "------------7:00----------------------\n",
      "It's 7 o'clock now.\n",
      "I have been running for 1 hour and I feel thirsty.\n",
      "At 7 o'clock, thirsty is  1\n",
      "----------If Condition is TRUE -------\n",
      "I entered a coffee shop\n",
      "I'm drinking some water.\n",
      "I'm eating some fruits.\n",
      "I will continue running.\n"
     ]
    }
   ],
   "source": [
    "\n",
    "print(\"------------6:00----------------------\")\n",
    "thirsty = 0\n",
    "print(\"I started running at 6 o'clock.\")\n",
    "print(\"At 6 o'clock, thirsty is \", thirsty)\n",
    "\n",
    "print(\"------------7:00----------------------\")\n",
    "print(\"It's 7 o'clock now.\")\n",
    "print(\"I have been running for 1 hour and I feel thirsty.\")\n",
    "thirsty = 1\n",
    "print(\"At 7 o'clock, thirsty is \", thirsty)\n",
    "\n",
    "print(\"----------If Condition is TRUE -------\")\n",
    "if (thirsty==1):\n",
    "    print(\"I entered a coffee shop\")\n",
    "    print(\"I'm drinking some water.\")\n",
    "    print(\"I'm eating some fruits.\")\n",
    "    \n",
    "print(\"I will continue running.\")"
   ]
  },
  {
   "cell_type": "markdown",
   "metadata": {},
   "source": [
    "### If the condition is FALSE, the indented code block is skipped and the program moves on to the next statement after the if statement \n",
    "Trường hợp 2: Điều kiện trong câu lệnh If là sai, khối lệnh lùi vào sau if sẽ không được thực thi và chương trình sẽ tiếp tục câu lệnh sau if.\n"
   ]
  },
  {
   "cell_type": "markdown",
   "metadata": {},
   "source": [
    "### "
   ]
  },
  {
   "cell_type": "code",
   "execution_count": 2,
   "metadata": {},
   "outputs": [
    {
     "name": "stdout",
     "output_type": "stream",
     "text": [
      "------------6:00----------------------\n",
      "I started running at 6 o'clock.\n",
      "At 6 o'clock, thirsty is  0\n",
      "------------6:05----------------------\n",
      "It's 6:05 now.\n",
      "I have been running for 5 minutes and I feel good.\n",
      "At 6:05, thirsty is  0\n",
      "----------If Condition is FALSE-------\n",
      "I will continue running.\n"
     ]
    }
   ],
   "source": [
    "print(\"------------6:00----------------------\")\n",
    "thirsty = 0\n",
    "print(\"I started running at 6 o'clock.\")\n",
    "print(\"At 6 o'clock, thirsty is \", thirsty)\n",
    "\n",
    "print(\"------------6:05----------------------\")\n",
    "print(\"It's 6:05 now.\")\n",
    "print(\"I have been running for 5 minutes and I feel good.\")\n",
    "print(\"At 6:05, thirsty is \", thirsty)\n",
    "\n",
    "print(\"----------If Condition is FALSE-------\")\n",
    "if (thirsty==1):\n",
    "    print(\"I entered a coffee shop.\")\n",
    "    print(\"I'm drinking some water.\")\n",
    "    print(\"I'm eating some fruits.\")\n",
    "    \n",
    "print(\"I will continue running.\")"
   ]
  },
  {
   "cell_type": "markdown",
   "metadata": {},
   "source": []
  },
  {
   "cell_type": "markdown",
   "metadata": {},
   "source": [
    "### Links\n",
    "1. [Source code](https://github.com/techamici/python_for_everyone)\n",
    "2. [Youtube TechAmici](https://www.youtube.com/@TechAmici)"
   ]
  },
  {
   "cell_type": "code",
   "execution_count": null,
   "metadata": {},
   "outputs": [],
   "source": []
  }
 ],
 "metadata": {
  "kernelspec": {
   "display_name": "base",
   "language": "python",
   "name": "python3"
  },
  "language_info": {
   "codemirror_mode": {
    "name": "ipython",
    "version": 3
   },
   "file_extension": ".py",
   "mimetype": "text/x-python",
   "name": "python",
   "nbconvert_exporter": "python",
   "pygments_lexer": "ipython3",
   "version": "3.8.8"
  }
 },
 "nbformat": 4,
 "nbformat_minor": 2
}
